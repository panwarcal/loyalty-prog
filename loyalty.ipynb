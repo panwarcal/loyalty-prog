{
 "cells": [
  {
   "cell_type": "code",
   "execution_count": 258,
   "metadata": {},
   "outputs": [],
   "source": [
    "import pandas as pd\n",
    "import numpy as np\n",
    "import datetime"
   ]
  },
  {
   "cell_type": "code",
   "execution_count": 259,
   "metadata": {},
   "outputs": [],
   "source": [
    "excel_file = pd.ExcelFile('Analytics Position Case Study.xlsx')"
   ]
  },
  {
   "cell_type": "code",
   "execution_count": 260,
   "metadata": {},
   "outputs": [
    {
     "name": "stdout",
     "output_type": "stream",
     "text": [
      "User Gameplay data\n",
      "Deposit Data\n",
      "Withdrawal Data\n"
     ]
    }
   ],
   "source": [
    "## Function to read different sheets and create columns \n",
    "def cleaning(ele):\n",
    "    input_df = pd.read_excel(excel_file, ele)\n",
    "    new_header = input_df.iloc[2] \n",
    "    input_df = input_df[3:] \n",
    "    input_df.columns = new_header\n",
    "    input_df.reset_index(drop=True, inplace=True)\n",
    "    input_df.rename_axis(None, axis=1, inplace=True)\n",
    "    print(ele)\n",
    "    return input_df\n",
    "\n",
    "df_dict ={'game':'User Gameplay data','dep':'Deposit Data','with':'Withdrawal Data'}\n",
    "\n",
    "# for key,value in df_dict.items():\n",
    "#     key +'_df'=cleaning(element)\n",
    "\n",
    "for key,value in df_dict.items():\n",
    "    exec(f'{key}_df = cleaning(value)')"
   ]
  },
  {
   "cell_type": "code",
   "execution_count": 262,
   "metadata": {},
   "outputs": [
    {
     "name": "stdout",
     "output_type": "stream",
     "text": [
      "  User ID Games Played             Datetime\n",
      "0     851            1  2022-01-10 00:00:00\n",
      "1     717            1  2022-01-10 00:00:00\n",
      "2     456            1  2022-01-10 00:00:00\n",
      "3     424            1  2022-01-10 00:00:00\n",
      "4     845            1  2022-01-10 00:00:00\n",
      "  User Id             Datetime Amount\n",
      "0     357  2022-01-10 00:03:00   2000\n",
      "1     776  2022-01-10 00:03:00   2500\n",
      "2     492  2022-01-10 00:06:00   5000\n",
      "3     803  2022-01-10 00:07:00   5000\n",
      "4     875  2022-01-10 00:09:00   1500\n",
      "  User Id             Datetime Amount\n",
      "0     190  2022-01-10 00:03:00   5872\n",
      "1     159  2022-01-10 00:16:00   9540\n",
      "2     164  2022-01-10 00:24:00    815\n",
      "3     946  2022-01-10 00:29:00  23000\n",
      "4     763  2022-01-10 00:40:00   9473\n"
     ]
    }
   ],
   "source": [
    "print(game_df.head())\n",
    "print(dep_df.head())\n",
    "print(with_df.head())"
   ]
  },
  {
   "cell_type": "code",
   "execution_count": 264,
   "metadata": {},
   "outputs": [
    {
     "data": {
      "text/plain": [
       "Column Definition\\n\\n1. User Id: unique id for every user\\n\\n2. Amount: amount deposited by user\\n\\n3. Datetime: Timestamp    17439\n",
       "Unnamed: 1                                                                                                                    17439\n",
       "Unnamed: 2                                                                                                                    17439\n",
       "dtype: int64"
      ]
     },
     "execution_count": 264,
     "metadata": {},
     "output_type": "execute_result"
    }
   ],
   "source": [
    "deposit_df.count()"
   ]
  },
  {
   "cell_type": "code",
   "execution_count": 265,
   "metadata": {},
   "outputs": [
    {
     "name": "stdout",
     "output_type": "stream",
     "text": [
      "User Gameplay data\n"
     ]
    },
    {
     "data": {
      "text/html": [
       "<div>\n",
       "<style scoped>\n",
       "    .dataframe tbody tr th:only-of-type {\n",
       "        vertical-align: middle;\n",
       "    }\n",
       "\n",
       "    .dataframe tbody tr th {\n",
       "        vertical-align: top;\n",
       "    }\n",
       "\n",
       "    .dataframe thead th {\n",
       "        text-align: right;\n",
       "    }\n",
       "</style>\n",
       "<table border=\"1\" class=\"dataframe\">\n",
       "  <thead>\n",
       "    <tr style=\"text-align: right;\">\n",
       "      <th>2</th>\n",
       "      <th>User ID</th>\n",
       "      <th>Games Played</th>\n",
       "      <th>Datetime</th>\n",
       "    </tr>\n",
       "  </thead>\n",
       "  <tbody>\n",
       "    <tr>\n",
       "      <th>0</th>\n",
       "      <td>851</td>\n",
       "      <td>1</td>\n",
       "      <td>2022-01-10 00:00:00</td>\n",
       "    </tr>\n",
       "    <tr>\n",
       "      <th>1</th>\n",
       "      <td>717</td>\n",
       "      <td>1</td>\n",
       "      <td>2022-01-10 00:00:00</td>\n",
       "    </tr>\n",
       "    <tr>\n",
       "      <th>2</th>\n",
       "      <td>456</td>\n",
       "      <td>1</td>\n",
       "      <td>2022-01-10 00:00:00</td>\n",
       "    </tr>\n",
       "    <tr>\n",
       "      <th>3</th>\n",
       "      <td>424</td>\n",
       "      <td>1</td>\n",
       "      <td>2022-01-10 00:00:00</td>\n",
       "    </tr>\n",
       "    <tr>\n",
       "      <th>4</th>\n",
       "      <td>845</td>\n",
       "      <td>1</td>\n",
       "      <td>2022-01-10 00:00:00</td>\n",
       "    </tr>\n",
       "  </tbody>\n",
       "</table>\n",
       "</div>"
      ],
      "text/plain": [
       "2 User ID Games Played             Datetime\n",
       "0     851            1  2022-01-10 00:00:00\n",
       "1     717            1  2022-01-10 00:00:00\n",
       "2     456            1  2022-01-10 00:00:00\n",
       "3     424            1  2022-01-10 00:00:00\n",
       "4     845            1  2022-01-10 00:00:00"
      ]
     },
     "execution_count": 265,
     "metadata": {},
     "output_type": "execute_result"
    }
   ],
   "source": [
    "ele ='User Gameplay data'\n",
    "print(ele)\n",
    "input_df = pd.read_excel(excel_file, ele)\n",
    "new_header = input_df.iloc[2] \n",
    "input_df = input_df[3:] \n",
    "input_df.columns = new_header\n",
    "input_df.reset_index(drop=True, inplace=True)\n",
    "input_df.head()"
   ]
  },
  {
   "cell_type": "code",
   "execution_count": 187,
   "metadata": {},
   "outputs": [
    {
     "data": {
      "text/html": [
       "<div>\n",
       "<style scoped>\n",
       "    .dataframe tbody tr th:only-of-type {\n",
       "        vertical-align: middle;\n",
       "    }\n",
       "\n",
       "    .dataframe tbody tr th {\n",
       "        vertical-align: top;\n",
       "    }\n",
       "\n",
       "    .dataframe thead th {\n",
       "        text-align: right;\n",
       "    }\n",
       "</style>\n",
       "<table border=\"1\" class=\"dataframe\">\n",
       "  <thead>\n",
       "    <tr style=\"text-align: right;\">\n",
       "      <th></th>\n",
       "      <th>User Id</th>\n",
       "      <th>Amount</th>\n",
       "    </tr>\n",
       "    <tr>\n",
       "      <th>Datetime</th>\n",
       "      <th></th>\n",
       "      <th></th>\n",
       "    </tr>\n",
       "  </thead>\n",
       "  <tbody>\n",
       "    <tr>\n",
       "      <th>2022-01-10 00:03:00</th>\n",
       "      <td>357</td>\n",
       "      <td>2000</td>\n",
       "    </tr>\n",
       "    <tr>\n",
       "      <th>2022-01-10 00:03:00</th>\n",
       "      <td>776</td>\n",
       "      <td>2500</td>\n",
       "    </tr>\n",
       "    <tr>\n",
       "      <th>2022-01-10 00:06:00</th>\n",
       "      <td>492</td>\n",
       "      <td>5000</td>\n",
       "    </tr>\n",
       "    <tr>\n",
       "      <th>2022-01-10 00:07:00</th>\n",
       "      <td>803</td>\n",
       "      <td>5000</td>\n",
       "    </tr>\n",
       "    <tr>\n",
       "      <th>2022-01-10 00:09:00</th>\n",
       "      <td>875</td>\n",
       "      <td>1500</td>\n",
       "    </tr>\n",
       "  </tbody>\n",
       "</table>\n",
       "</div>"
      ],
      "text/plain": [
       "                    User Id Amount\n",
       "Datetime                          \n",
       "2022-01-10 00:03:00     357   2000\n",
       "2022-01-10 00:03:00     776   2500\n",
       "2022-01-10 00:06:00     492   5000\n",
       "2022-01-10 00:07:00     803   5000\n",
       "2022-01-10 00:09:00     875   1500"
      ]
     },
     "execution_count": 187,
     "metadata": {},
     "output_type": "execute_result"
    }
   ],
   "source": [
    "new_header2 = deposit_df.iloc[2] \n",
    "deposit_df = deposit_df[3:] \n",
    "deposit_df.columns = new_header2\n",
    "deposit_df.reset_index(drop=True, inplace=True)\n",
    "deposit_df.rename_axis(None, axis=1, inplace=True)\n",
    "deposit_df['Datetime'] = pd.to_datetime(deposit_df['Datetime'])\n",
    "deposit_df.set_index(['Datetime'], inplace=True)\n",
    "deposit_df.head()"
   ]
  },
  {
   "cell_type": "code",
   "execution_count": 188,
   "metadata": {},
   "outputs": [
    {
     "data": {
      "text/html": [
       "<div>\n",
       "<style scoped>\n",
       "    .dataframe tbody tr th:only-of-type {\n",
       "        vertical-align: middle;\n",
       "    }\n",
       "\n",
       "    .dataframe tbody tr th {\n",
       "        vertical-align: top;\n",
       "    }\n",
       "\n",
       "    .dataframe thead th {\n",
       "        text-align: right;\n",
       "    }\n",
       "</style>\n",
       "<table border=\"1\" class=\"dataframe\">\n",
       "  <thead>\n",
       "    <tr style=\"text-align: right;\">\n",
       "      <th></th>\n",
       "      <th>User Id</th>\n",
       "      <th>Amount</th>\n",
       "    </tr>\n",
       "    <tr>\n",
       "      <th>Datetime</th>\n",
       "      <th></th>\n",
       "      <th></th>\n",
       "    </tr>\n",
       "  </thead>\n",
       "  <tbody>\n",
       "    <tr>\n",
       "      <th>2022-01-10 00:03:00</th>\n",
       "      <td>190</td>\n",
       "      <td>5872</td>\n",
       "    </tr>\n",
       "    <tr>\n",
       "      <th>2022-01-10 00:16:00</th>\n",
       "      <td>159</td>\n",
       "      <td>9540</td>\n",
       "    </tr>\n",
       "    <tr>\n",
       "      <th>2022-01-10 00:24:00</th>\n",
       "      <td>164</td>\n",
       "      <td>815</td>\n",
       "    </tr>\n",
       "    <tr>\n",
       "      <th>2022-01-10 00:29:00</th>\n",
       "      <td>946</td>\n",
       "      <td>23000</td>\n",
       "    </tr>\n",
       "    <tr>\n",
       "      <th>2022-01-10 00:40:00</th>\n",
       "      <td>763</td>\n",
       "      <td>9473</td>\n",
       "    </tr>\n",
       "  </tbody>\n",
       "</table>\n",
       "</div>"
      ],
      "text/plain": [
       "                    User Id Amount\n",
       "Datetime                          \n",
       "2022-01-10 00:03:00     190   5872\n",
       "2022-01-10 00:16:00     159   9540\n",
       "2022-01-10 00:24:00     164    815\n",
       "2022-01-10 00:29:00     946  23000\n",
       "2022-01-10 00:40:00     763   9473"
      ]
     },
     "execution_count": 188,
     "metadata": {},
     "output_type": "execute_result"
    }
   ],
   "source": [
    "new_header3 = withdrawal_df.iloc[2] \n",
    "withdrawal_df = withdrawal_df[3:] \n",
    "withdrawal_df.columns = new_header3\n",
    "withdrawal_df.reset_index(drop=True, inplace=True)\n",
    "withdrawal_df.rename_axis(None, axis=1, inplace=True)\n",
    "withdrawal_df['Datetime'] = pd.to_datetime(withdrawal_df['Datetime'])\n",
    "withdrawal_df.set_index(['Datetime'], inplace=True)\n",
    "withdrawal_df.head()"
   ]
  },
  {
   "cell_type": "code",
   "execution_count": 189,
   "metadata": {},
   "outputs": [
    {
     "data": {
      "text/plain": [
       "(3566, 2)"
      ]
     },
     "execution_count": 189,
     "metadata": {},
     "output_type": "execute_result"
    }
   ],
   "source": [
    "withdrawal_df.shape"
   ]
  },
  {
   "cell_type": "code",
   "execution_count": 190,
   "metadata": {},
   "outputs": [
    {
     "data": {
      "text/plain": [
       "(17438, 2)"
      ]
     },
     "execution_count": 190,
     "metadata": {},
     "output_type": "execute_result"
    }
   ],
   "source": [
    "deposit_df.shape"
   ]
  },
  {
   "cell_type": "code",
   "execution_count": 191,
   "metadata": {},
   "outputs": [
    {
     "data": {
      "text/plain": [
       "(355266, 2)"
      ]
     },
     "execution_count": 191,
     "metadata": {},
     "output_type": "execute_result"
    }
   ],
   "source": [
    "gameplay_df.shape"
   ]
  },
  {
   "cell_type": "code",
   "execution_count": 193,
   "metadata": {},
   "outputs": [
    {
     "data": {
      "text/html": [
       "<div>\n",
       "<style scoped>\n",
       "    .dataframe tbody tr th:only-of-type {\n",
       "        vertical-align: middle;\n",
       "    }\n",
       "\n",
       "    .dataframe tbody tr th {\n",
       "        vertical-align: top;\n",
       "    }\n",
       "\n",
       "    .dataframe thead th {\n",
       "        text-align: right;\n",
       "    }\n",
       "</style>\n",
       "<table border=\"1\" class=\"dataframe\">\n",
       "  <thead>\n",
       "    <tr style=\"text-align: right;\">\n",
       "      <th></th>\n",
       "      <th>User ID</th>\n",
       "      <th>Games Played</th>\n",
       "    </tr>\n",
       "    <tr>\n",
       "      <th>Datetime</th>\n",
       "      <th></th>\n",
       "      <th></th>\n",
       "    </tr>\n",
       "  </thead>\n",
       "  <tbody>\n",
       "    <tr>\n",
       "      <th>2022-02-10 00:00:00</th>\n",
       "      <td>250</td>\n",
       "      <td>1</td>\n",
       "    </tr>\n",
       "    <tr>\n",
       "      <th>2022-02-10 00:00:00</th>\n",
       "      <td>418</td>\n",
       "      <td>1</td>\n",
       "    </tr>\n",
       "    <tr>\n",
       "      <th>2022-02-10 00:00:00</th>\n",
       "      <td>502</td>\n",
       "      <td>1</td>\n",
       "    </tr>\n",
       "    <tr>\n",
       "      <th>2022-02-10 00:00:00</th>\n",
       "      <td>765</td>\n",
       "      <td>1</td>\n",
       "    </tr>\n",
       "    <tr>\n",
       "      <th>2022-02-10 00:00:00</th>\n",
       "      <td>8</td>\n",
       "      <td>1</td>\n",
       "    </tr>\n",
       "    <tr>\n",
       "      <th>2022-02-10 00:00:00</th>\n",
       "      <td>887</td>\n",
       "      <td>1</td>\n",
       "    </tr>\n",
       "    <tr>\n",
       "      <th>2022-02-10 00:00:00</th>\n",
       "      <td>182</td>\n",
       "      <td>1</td>\n",
       "    </tr>\n",
       "    <tr>\n",
       "      <th>2022-02-10 00:01:00</th>\n",
       "      <td>5</td>\n",
       "      <td>1</td>\n",
       "    </tr>\n",
       "    <tr>\n",
       "      <th>2022-02-10 00:01:00</th>\n",
       "      <td>218</td>\n",
       "      <td>1</td>\n",
       "    </tr>\n",
       "    <tr>\n",
       "      <th>2022-02-10 00:01:00</th>\n",
       "      <td>247</td>\n",
       "      <td>1</td>\n",
       "    </tr>\n",
       "  </tbody>\n",
       "</table>\n",
       "</div>"
      ],
      "text/plain": [
       "                    User ID Games Played\n",
       "Datetime                                \n",
       "2022-02-10 00:00:00     250            1\n",
       "2022-02-10 00:00:00     418            1\n",
       "2022-02-10 00:00:00     502            1\n",
       "2022-02-10 00:00:00     765            1\n",
       "2022-02-10 00:00:00       8            1\n",
       "2022-02-10 00:00:00     887            1\n",
       "2022-02-10 00:00:00     182            1\n",
       "2022-02-10 00:01:00       5            1\n",
       "2022-02-10 00:01:00     218            1\n",
       "2022-02-10 00:01:00     247            1"
      ]
     },
     "execution_count": 193,
     "metadata": {},
     "output_type": "execute_result"
    }
   ],
   "source": [
    "qaS1 = gameplay_df.loc['2022-02-10 00:00:00':'2022-02-10 11:59:00']\n",
    "qaS1.head(10)"
   ]
  },
  {
   "cell_type": "code",
   "execution_count": 196,
   "metadata": {},
   "outputs": [],
   "source": [
    "qbS2 = gameplay_df.loc['2022-10-16 12:00:00':'2022-10-16 23:59:00']\n",
    "qcS1 = gameplay_df.loc['2022-10-18 00:00:00':'2022-10-18 11:59:00']\n",
    "qdS1 = gameplay_df.loc['2022-10-26 12:00:00':'2022-10-26 23:59:00']"
   ]
  },
  {
   "cell_type": "code",
   "execution_count": 205,
   "metadata": {},
   "outputs": [],
   "source": [
    "points = qaS1.groupby(['User ID']).sum()\n",
    "points['Games Played'] *=0.2"
   ]
  },
  {
   "cell_type": "code",
   "execution_count": 206,
   "metadata": {},
   "outputs": [
    {
     "data": {
      "text/html": [
       "<div>\n",
       "<style scoped>\n",
       "    .dataframe tbody tr th:only-of-type {\n",
       "        vertical-align: middle;\n",
       "    }\n",
       "\n",
       "    .dataframe tbody tr th {\n",
       "        vertical-align: top;\n",
       "    }\n",
       "\n",
       "    .dataframe thead th {\n",
       "        text-align: right;\n",
       "    }\n",
       "</style>\n",
       "<table border=\"1\" class=\"dataframe\">\n",
       "  <thead>\n",
       "    <tr style=\"text-align: right;\">\n",
       "      <th></th>\n",
       "      <th>Games Played</th>\n",
       "    </tr>\n",
       "    <tr>\n",
       "      <th>User ID</th>\n",
       "      <th></th>\n",
       "    </tr>\n",
       "  </thead>\n",
       "  <tbody>\n",
       "    <tr>\n",
       "      <th>2</th>\n",
       "      <td>0.4</td>\n",
       "    </tr>\n",
       "    <tr>\n",
       "      <th>5</th>\n",
       "      <td>1.8</td>\n",
       "    </tr>\n",
       "    <tr>\n",
       "      <th>6</th>\n",
       "      <td>0.4</td>\n",
       "    </tr>\n",
       "    <tr>\n",
       "      <th>7</th>\n",
       "      <td>1.0</td>\n",
       "    </tr>\n",
       "    <tr>\n",
       "      <th>8</th>\n",
       "      <td>1.2</td>\n",
       "    </tr>\n",
       "  </tbody>\n",
       "</table>\n",
       "</div>"
      ],
      "text/plain": [
       "         Games Played\n",
       "User ID              \n",
       "2                 0.4\n",
       "5                 1.8\n",
       "6                 0.4\n",
       "7                 1.0\n",
       "8                 1.2"
      ]
     },
     "execution_count": 206,
     "metadata": {},
     "output_type": "execute_result"
    }
   ],
   "source": [
    "points.head()"
   ]
  },
  {
   "cell_type": "code",
   "execution_count": 207,
   "metadata": {},
   "outputs": [
    {
     "name": "stderr",
     "output_type": "stream",
     "text": [
      "/var/folders/dv/0q0rc1qs4qx5gp3g1bdtl6hh0000gn/T/ipykernel_36117/37374693.py:1: FutureWarning: Value based partial slicing on non-monotonic DatetimeIndexes with non-existing keys is deprecated and will raise a KeyError in a future Version.\n",
      "  qaS11 = deposit_df.loc['2022-02-10 00:00:00':'2022-02-10 11:59:00']\n"
     ]
    },
    {
     "data": {
      "text/html": [
       "<div>\n",
       "<style scoped>\n",
       "    .dataframe tbody tr th:only-of-type {\n",
       "        vertical-align: middle;\n",
       "    }\n",
       "\n",
       "    .dataframe tbody tr th {\n",
       "        vertical-align: top;\n",
       "    }\n",
       "\n",
       "    .dataframe thead th {\n",
       "        text-align: right;\n",
       "    }\n",
       "</style>\n",
       "<table border=\"1\" class=\"dataframe\">\n",
       "  <thead>\n",
       "    <tr style=\"text-align: right;\">\n",
       "      <th></th>\n",
       "      <th>User Id</th>\n",
       "      <th>Amount</th>\n",
       "    </tr>\n",
       "    <tr>\n",
       "      <th>Datetime</th>\n",
       "      <th></th>\n",
       "      <th></th>\n",
       "    </tr>\n",
       "  </thead>\n",
       "  <tbody>\n",
       "    <tr>\n",
       "      <th>2022-02-10 00:04:00</th>\n",
       "      <td>695</td>\n",
       "      <td>500</td>\n",
       "    </tr>\n",
       "    <tr>\n",
       "      <th>2022-02-10 00:07:00</th>\n",
       "      <td>214</td>\n",
       "      <td>2750</td>\n",
       "    </tr>\n",
       "    <tr>\n",
       "      <th>2022-02-10 00:07:00</th>\n",
       "      <td>945</td>\n",
       "      <td>5000</td>\n",
       "    </tr>\n",
       "    <tr>\n",
       "      <th>2022-02-10 00:08:00</th>\n",
       "      <td>779</td>\n",
       "      <td>5100</td>\n",
       "    </tr>\n",
       "    <tr>\n",
       "      <th>2022-02-10 00:09:00</th>\n",
       "      <td>390</td>\n",
       "      <td>2000</td>\n",
       "    </tr>\n",
       "  </tbody>\n",
       "</table>\n",
       "</div>"
      ],
      "text/plain": [
       "                    User Id Amount\n",
       "Datetime                          \n",
       "2022-02-10 00:04:00     695    500\n",
       "2022-02-10 00:07:00     214   2750\n",
       "2022-02-10 00:07:00     945   5000\n",
       "2022-02-10 00:08:00     779   5100\n",
       "2022-02-10 00:09:00     390   2000"
      ]
     },
     "execution_count": 207,
     "metadata": {},
     "output_type": "execute_result"
    }
   ],
   "source": [
    "qaS11 = deposit_df.loc['2022-02-10 00:00:00':'2022-02-10 11:59:00']\n",
    "qaS11.head()"
   ]
  },
  {
   "cell_type": "code",
   "execution_count": 208,
   "metadata": {},
   "outputs": [],
   "source": [
    "points1 = qaS11.groupby(['User Id']).sum()\n",
    "points1['Amount'] *=0.01"
   ]
  },
  {
   "cell_type": "code",
   "execution_count": 209,
   "metadata": {},
   "outputs": [
    {
     "data": {
      "text/html": [
       "<div>\n",
       "<style scoped>\n",
       "    .dataframe tbody tr th:only-of-type {\n",
       "        vertical-align: middle;\n",
       "    }\n",
       "\n",
       "    .dataframe tbody tr th {\n",
       "        vertical-align: top;\n",
       "    }\n",
       "\n",
       "    .dataframe thead th {\n",
       "        text-align: right;\n",
       "    }\n",
       "</style>\n",
       "<table border=\"1\" class=\"dataframe\">\n",
       "  <thead>\n",
       "    <tr style=\"text-align: right;\">\n",
       "      <th></th>\n",
       "      <th>Amount</th>\n",
       "    </tr>\n",
       "    <tr>\n",
       "      <th>User Id</th>\n",
       "      <th></th>\n",
       "    </tr>\n",
       "  </thead>\n",
       "  <tbody>\n",
       "    <tr>\n",
       "      <th>5</th>\n",
       "      <td>6.00</td>\n",
       "    </tr>\n",
       "    <tr>\n",
       "      <th>6</th>\n",
       "      <td>40.00</td>\n",
       "    </tr>\n",
       "    <tr>\n",
       "      <th>9</th>\n",
       "      <td>35.87</td>\n",
       "    </tr>\n",
       "    <tr>\n",
       "      <th>10</th>\n",
       "      <td>20.00</td>\n",
       "    </tr>\n",
       "    <tr>\n",
       "      <th>11</th>\n",
       "      <td>20.00</td>\n",
       "    </tr>\n",
       "  </tbody>\n",
       "</table>\n",
       "</div>"
      ],
      "text/plain": [
       "         Amount\n",
       "User Id        \n",
       "5          6.00\n",
       "6         40.00\n",
       "9         35.87\n",
       "10        20.00\n",
       "11        20.00"
      ]
     },
     "execution_count": 209,
     "metadata": {},
     "output_type": "execute_result"
    }
   ],
   "source": [
    "points1.head()"
   ]
  },
  {
   "cell_type": "code",
   "execution_count": 210,
   "metadata": {},
   "outputs": [
    {
     "name": "stderr",
     "output_type": "stream",
     "text": [
      "/var/folders/dv/0q0rc1qs4qx5gp3g1bdtl6hh0000gn/T/ipykernel_36117/2427088681.py:1: FutureWarning: Value based partial slicing on non-monotonic DatetimeIndexes with non-existing keys is deprecated and will raise a KeyError in a future Version.\n",
      "  qaS12 = withdrawal_df.loc['2022-02-10 00:00:00':'2022-02-10 11:59:00']\n"
     ]
    },
    {
     "data": {
      "text/html": [
       "<div>\n",
       "<style scoped>\n",
       "    .dataframe tbody tr th:only-of-type {\n",
       "        vertical-align: middle;\n",
       "    }\n",
       "\n",
       "    .dataframe tbody tr th {\n",
       "        vertical-align: top;\n",
       "    }\n",
       "\n",
       "    .dataframe thead th {\n",
       "        text-align: right;\n",
       "    }\n",
       "</style>\n",
       "<table border=\"1\" class=\"dataframe\">\n",
       "  <thead>\n",
       "    <tr style=\"text-align: right;\">\n",
       "      <th></th>\n",
       "      <th>User Id</th>\n",
       "      <th>Amount</th>\n",
       "    </tr>\n",
       "    <tr>\n",
       "      <th>Datetime</th>\n",
       "      <th></th>\n",
       "      <th></th>\n",
       "    </tr>\n",
       "  </thead>\n",
       "  <tbody>\n",
       "    <tr>\n",
       "      <th>2022-02-10 00:23:00</th>\n",
       "      <td>222</td>\n",
       "      <td>60632</td>\n",
       "    </tr>\n",
       "    <tr>\n",
       "      <th>2022-02-10 00:30:00</th>\n",
       "      <td>351</td>\n",
       "      <td>5479</td>\n",
       "    </tr>\n",
       "    <tr>\n",
       "      <th>2022-02-10 00:36:00</th>\n",
       "      <td>99</td>\n",
       "      <td>43478</td>\n",
       "    </tr>\n",
       "    <tr>\n",
       "      <th>2022-02-10 00:46:00</th>\n",
       "      <td>920</td>\n",
       "      <td>13000</td>\n",
       "    </tr>\n",
       "    <tr>\n",
       "      <th>2022-02-10 00:51:00</th>\n",
       "      <td>637</td>\n",
       "      <td>3800</td>\n",
       "    </tr>\n",
       "  </tbody>\n",
       "</table>\n",
       "</div>"
      ],
      "text/plain": [
       "                    User Id Amount\n",
       "Datetime                          \n",
       "2022-02-10 00:23:00     222  60632\n",
       "2022-02-10 00:30:00     351   5479\n",
       "2022-02-10 00:36:00      99  43478\n",
       "2022-02-10 00:46:00     920  13000\n",
       "2022-02-10 00:51:00     637   3800"
      ]
     },
     "execution_count": 210,
     "metadata": {},
     "output_type": "execute_result"
    }
   ],
   "source": [
    "qaS12 = withdrawal_df.loc['2022-02-10 00:00:00':'2022-02-10 11:59:00']\n",
    "qaS12.head()"
   ]
  },
  {
   "cell_type": "code",
   "execution_count": 211,
   "metadata": {},
   "outputs": [
    {
     "data": {
      "text/html": [
       "<div>\n",
       "<style scoped>\n",
       "    .dataframe tbody tr th:only-of-type {\n",
       "        vertical-align: middle;\n",
       "    }\n",
       "\n",
       "    .dataframe tbody tr th {\n",
       "        vertical-align: top;\n",
       "    }\n",
       "\n",
       "    .dataframe thead th {\n",
       "        text-align: right;\n",
       "    }\n",
       "</style>\n",
       "<table border=\"1\" class=\"dataframe\">\n",
       "  <thead>\n",
       "    <tr style=\"text-align: right;\">\n",
       "      <th></th>\n",
       "      <th>Amount</th>\n",
       "    </tr>\n",
       "    <tr>\n",
       "      <th>User Id</th>\n",
       "      <th></th>\n",
       "    </tr>\n",
       "  </thead>\n",
       "  <tbody>\n",
       "    <tr>\n",
       "      <th>39</th>\n",
       "      <td>142.00</td>\n",
       "    </tr>\n",
       "    <tr>\n",
       "      <th>47</th>\n",
       "      <td>73.17</td>\n",
       "    </tr>\n",
       "    <tr>\n",
       "      <th>52</th>\n",
       "      <td>95.20</td>\n",
       "    </tr>\n",
       "    <tr>\n",
       "      <th>76</th>\n",
       "      <td>16.59</td>\n",
       "    </tr>\n",
       "    <tr>\n",
       "      <th>78</th>\n",
       "      <td>220.00</td>\n",
       "    </tr>\n",
       "  </tbody>\n",
       "</table>\n",
       "</div>"
      ],
      "text/plain": [
       "         Amount\n",
       "User Id        \n",
       "39       142.00\n",
       "47        73.17\n",
       "52        95.20\n",
       "76        16.59\n",
       "78       220.00"
      ]
     },
     "execution_count": 211,
     "metadata": {},
     "output_type": "execute_result"
    }
   ],
   "source": [
    "points2 = qaS12.groupby(['User Id']).sum()\n",
    "points2['Amount'] *=0.01\n",
    "points2.head()"
   ]
  },
  {
   "cell_type": "code",
   "execution_count": null,
   "metadata": {},
   "outputs": [],
   "source": []
  }
 ],
 "metadata": {
  "kernelspec": {
   "display_name": "Python 3.9.13 ('base')",
   "language": "python",
   "name": "python3"
  },
  "language_info": {
   "codemirror_mode": {
    "name": "ipython",
    "version": 3
   },
   "file_extension": ".py",
   "mimetype": "text/x-python",
   "name": "python",
   "nbconvert_exporter": "python",
   "pygments_lexer": "ipython3",
   "version": "3.9.13"
  },
  "orig_nbformat": 4,
  "vscode": {
   "interpreter": {
    "hash": "f5b326d6fc216107cfc5548154741a0b3b78b57750a3f565b67ff9e1ebdcfb7b"
   }
  }
 },
 "nbformat": 4,
 "nbformat_minor": 2
}
